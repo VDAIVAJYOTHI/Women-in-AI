{
  "nbformat": 4,
  "nbformat_minor": 0,
  "metadata": {
    "colab": {
      "provenance": []
    },
    "kernelspec": {
      "name": "python3",
      "display_name": "Python 3"
    },
    "language_info": {
      "name": "python"
    }
  },
  "cells": [
    {
      "cell_type": "code",
      "source": [
        "import seaborn as sns\n",
        "df=df.groupby('State')['Active Cases'].sum()\n",
        "df=df.sort_values(ascending=False).head(5)\n",
        "sns.barplot(data=df)"
      ],
      "metadata": {
        "colab": {
          "base_uri": "https://localhost:8080/",
          "height": 482
        },
        "id": "kIl2gmdtq8qE",
        "outputId": "1d6298db-8b3f-4b64-b8ee-9245be1de463"
      },
      "execution_count": null,
      "outputs": [
        {
          "output_type": "execute_result",
          "data": {
            "text/plain": [
              "<Axes: xlabel='State', ylabel='Active Cases'>"
            ]
          },
          "metadata": {},
          "execution_count": 11
        },
        {
          "output_type": "display_data",
          "data": {
            "text/plain": [
              "<Figure size 640x480 with 1 Axes>"
            ],
            "image/png": "[encoded data removed]"
          },
          "metadata": {}
        }
      ]
    },
    {
      "cell_type": "code",
      "execution_count": null,
      "metadata": {
        "colab": {
          "base_uri": "https://localhost:8080/",
          "height": 614
        },
        "id": "HsZLjSqWpy5n",
        "outputId": "c97c630f-1d98-49be-9a92-4fda54cb94ad"
      },
      "outputs": [
        {
          "output_type": "execute_result",
          "data": {
            "text/plain": [
              "            Date                        State  Confirmed Cases  Active Cases  \\\n",
              "0     2020-03-27  Andaman and Nicobar Islands                1             1   \n",
              "1     2020-03-28  Andaman and Nicobar Islands                6             6   \n",
              "2     2020-03-29  Andaman and Nicobar Islands                9             9   \n",
              "3     2020-03-30  Andaman and Nicobar Islands                9             9   \n",
              "4     2020-03-31  Andaman and Nicobar Islands               10            10   \n",
              "...          ...                          ...              ...           ...   \n",
              "28756 2022-06-26                  West Bengal          2024479          3496   \n",
              "28757 2022-06-27                  West Bengal          2024972          3777   \n",
              "28758 2022-06-28                  West Bengal          2025523          4080   \n",
              "28759 2022-06-29                  West Bengal          2026477          4759   \n",
              "28760 2022-06-30                  West Bengal          2027901          5885   \n",
              "\n",
              "           Cured    Death  \n",
              "0            0.0      0.0  \n",
              "1            0.0      0.0  \n",
              "2            0.0      0.0  \n",
              "3            0.0      0.0  \n",
              "4            0.0      0.0  \n",
              "...          ...      ...  \n",
              "28756  1999767.0  21216.0  \n",
              "28757  1999979.0  21216.0  \n",
              "28758  2000227.0  21216.0  \n",
              "28759  2000502.0  21216.0  \n",
              "28760  2000798.0  21218.0  \n",
              "\n",
              "[28761 rows x 6 columns]"
            ],
            "text/html": [
              "\n",
              "  <div id=\"df-0cfda5ee-9641-40a0-ad44-e14668155230\" class=\"colab-df-container\">\n",
              "    <div>\n",
              "<style scoped>\n",
              "    .dataframe tbody tr th:only-of-type {\n",
              "        vertical-align: middle;\n",
              "    }\n",
              "\n",
              "    .dataframe tbody tr th {\n",
              "        vertical-align: top;\n",
              "    }\n",
              "\n",
              "    .dataframe thead th {\n",
              "        text-align: right;\n",
              "    }\n",
              "</style>\n",
              "<table border=\"1\" class=\"dataframe\">\n",
              "  <thead>\n",
              "    <tr style=\"text-align: right;\">\n",
              "      <th></th>\n",
              "      <th>Date</th>\n",
              "      <th>State</th>\n",
              "      <th>Confirmed Cases</th>\n",
              "      <th>Active Cases</th>\n",
              "      <th>Cured</th>\n",
              "      <th>Death</th>\n",
              "    </tr>\n",
              "  </thead>\n",
              "  <tbody>\n",
              "    <tr>\n",
              "      <th>0</th>\n",
              "      <td>2020-03-27</td>\n",
              "      <td>Andaman and Nicobar Islands</td>\n",
              "      <td>1</td>\n",
              "      <td>1</td>\n",
              "      <td>0.0</td>\n",
              "      <td>0.0</td>\n",
              "    </tr>\n",
              "    <tr>\n",
              "      <th>1</th>\n",
              "      <td>2020-03-28</td>\n",
              "      <td>Andaman and Nicobar Islands</td>\n",
              "      <td>6</td>\n",
              "      <td>6</td>\n",
              "      <td>0.0</td>\n",
              "      <td>0.0</td>\n",
              "    </tr>\n",
              "    <tr>\n",
              "      <th>2</th>\n",
              "      <td>2020-03-29</td>\n",
              "      <td>Andaman and Nicobar Islands</td>\n",
              "      <td>9</td>\n",
              "      <td>9</td>\n",
              "      <td>0.0</td>\n",
              "      <td>0.0</td>\n",
              "    </tr>\n",
              "    <tr>\n",
              "      <th>3</th>\n",
              "      <td>2020-03-30</td>\n",
              "      <td>Andaman and Nicobar Islands</td>\n",
              "      <td>9</td>\n",
              "      <td>9</td>\n",
              "      <td>0.0</td>\n",
              "      <td>0.0</td>\n",
              "    </tr>\n",
              "    <tr>\n",
              "      <th>4</th>\n",
              "      <td>2020-03-31</td>\n",
              "      <td>Andaman and Nicobar Islands</td>\n",
              "      <td>10</td>\n",
              "      <td>10</td>\n",
              "      <td>0.0</td>\n",
              "      <td>0.0</td>\n",
              "    </tr>\n",
              "    <tr>\n",
              "      <th>...</th>\n",
              "      <td>...</td>\n",
              "      <td>...</td>\n",
              "      <td>...</td>\n",
              "      <td>...</td>\n",
              "      <td>...</td>\n",
              "      <td>...</td>\n",
              "    </tr>\n",
              "    <tr>\n",
              "      <th>28756</th>\n",
              "      <td>2022-06-26</td>\n",
              "      <td>West Bengal</td>\n",
              "      <td>2024479</td>\n",
              "      <td>3496</td>\n",
              "      <td>1999767.0</td>\n",
              "      <td>21216.0</td>\n",
              "    </tr>\n",
              "    <tr>\n",
              "      <th>28757</th>\n",
              "      <td>2022-06-27</td>\n",
              "      <td>West Bengal</td>\n",
              "      <td>2024972</td>\n",
              "      <td>3777</td>\n",
              "      <td>1999979.0</td>\n",
              "      <td>21216.0</td>\n",
              "    </tr>\n",
              "    <tr>\n",
              "      <th>28758</th>\n",
              "      <td>2022-06-28</td>\n",
              "      <td>West Bengal</td>\n",
              "      <td>2025523</td>\n",
              "      <td>4080</td>\n",
              "      <td>2000227.0</td>\n",
              "      <td>21216.0</td>\n",
              "    </tr>\n",
              "    <tr>\n",
              "      <th>28759</th>\n",
              "      <td>2022-06-29</td>\n",
              "      <td>West Bengal</td>\n",
              "      <td>2026477</td>\n",
              "      <td>4759</td>\n",
              "      <td>2000502.0</td>\n",
              "      <td>21216.0</td>\n",
              "    </tr>\n",
              "    <tr>\n",
              "      <th>28760</th>\n",
              "      <td>2022-06-30</td>\n",
              "      <td>West Bengal</td>\n",
              "      <td>2027901</td>\n",
              "      <td>5885</td>\n",
              "      <td>2000798.0</td>\n",
              "      <td>21218.0</td>\n",
              "    </tr>\n",
              "  </tbody>\n",
              "</table>\n",
              "<p>28761 rows × 6 columns</p>\n",
              "</div>\n",
              "    <div class=\"colab-df-buttons\">\n",
              "\n",
              "  <div class=\"colab-df-container\">\n",
              "    <button class=\"colab-df-convert\" onclick=\"convertToInteractive('df-0cfda5ee-9641-40a0-ad44-e14668155230')\"\n",
              "            title=\"Convert this dataframe to an interactive table.\"\n",
              "            style=\"display:none;\">\n",
              "\n",
              "  <svg xmlns=\"http://www.w3.org/2000/svg\" height=\"24px\" viewBox=\"0 -960 960 960\">\n",
              "    <path d=\"M120-120v-720h720v720H120Zm60-500h600v-160H180v160Zm220 220h160v-160H400v160Zm0 220h160v-160H400v160ZM180-400h160v-160H180v160Zm440 0h160v-160H620v160ZM180-180h160v-160H180v160Zm440 0h160v-160H620v160Z\"/>\n",
              "  </svg>\n",
              "    </button>\n",
              "\n",
              "  <style>\n",
              "    .colab-df-container {\n",
              "      display:flex;\n",
              "      gap: 12px;\n",
              "    }\n",
              "\n",
              "    .colab-df-convert {\n",
              "      background-color: #E8F0FE;\n",
              "      border: none;\n",
              "      border-radius: 50%;\n",
              "      cursor: pointer;\n",
              "      display: none;\n",
              "      fill: #1967D2;\n",
              "      height: 32px;\n",
              "      padding: 0 0 0 0;\n",
              "      width: 32px;\n",
              "    }\n",
              "\n",
              "    .colab-df-convert:hover {\n",
              "      background-color: #E2EBFA;\n",
              "      box-shadow: 0px 1px 2px rgba(60, 64, 67, 0.3), 0px 1px 3px 1px rgba(60, 64, 67, 0.15);\n",
              "      fill: #174EA6;\n",
              "    }\n",
              "\n",
              "    .colab-df-buttons div {\n",
              "      margin-bottom: 4px;\n",
              "    }\n",
              "\n",
              "    [theme=dark] .colab-df-convert {\n",
              "      background-color: #3B4455;\n",
              "      fill: #D2E3FC;\n",
              "    }\n",
              "\n",
              "    [theme=dark] .colab-df-convert:hover {\n",
              "      background-color: #434B5C;\n",
              "      box-shadow: 0px 1px 3px 1px rgba(0, 0, 0, 0.15);\n",
              "      filter: drop-shadow(0px 1px 2px rgba(0, 0, 0, 0.3));\n",
              "      fill: #FFFFFF;\n",
              "    }\n",
              "  </style>\n",
              "\n",
              "    <script>\n",
              "      const buttonEl =\n",
              "        document.querySelector('#df-0cfda5ee-9641-40a0-ad44-e14668155230 button.colab-df-convert');\n",
              "      buttonEl.style.display =\n",
              "        google.colab.kernel.accessAllowed ? 'block' : 'none';\n",
              "\n",
              "      async function convertToInteractive(key) {\n",
              "        const element = document.querySelector('#df-0cfda5ee-9641-40a0-ad44-e14668155230');\n",
              "        const dataTable =\n",
              "          await google.colab.kernel.invokeFunction('convertToInteractive',\n",
              "                                                    [key], {});\n",
              "        if (!dataTable) return;\n",
              "\n",
              "        const docLinkHtml = 'Like what you see? Visit the ' +\n",
              "          '<a target=\"_blank\" href=https://colab.research.google.com/notebooks/data_table.ipynb>data table notebook</a>'\n",
              "          + ' to learn more about interactive tables.';\n",
              "        element.innerHTML = '';\n",
              "        dataTable['output_type'] = 'display_data';\n",
              "        await google.colab.output.renderOutput(dataTable, element);\n",
              "        const docLink = document.createElement('div');\n",
              "        docLink.innerHTML = docLinkHtml;\n",
              "        element.appendChild(docLink);\n",
              "      }\n",
              "    </script>\n",
              "  </div>\n",
              "\n",
              "\n",
              "<div id=\"df-0c5feb4a-5471-4f55-84f1-d55f6037f339\">\n",
              "  <button class=\"colab-df-quickchart\" onclick=\"quickchart('df-0c5feb4a-5471-4f55-84f1-d55f6037f339')\"\n",
              "            title=\"Suggest charts\"\n",
              "            style=\"display:none;\">\n",
              "\n",
              "<svg xmlns=\"http://www.w3.org/2000/svg\" height=\"24px\"viewBox=\"0 0 24 24\"\n",
              "     width=\"24px\">\n",
              "    <g>\n",
              "        <path d=\"M19 3H5c-1.1 0-2 .9-2 2v14c0 1.1.9 2 2 2h14c1.1 0 2-.9 2-2V5c0-1.1-.9-2-2-2zM9 17H7v-7h2v7zm4 0h-2V7h2v10zm4 0h-2v-4h2v4z\"/>\n",
              "    </g>\n",
              "</svg>\n",
              "  </button>\n",
              "\n",
              "<style>\n",
              "  .colab-df-quickchart {\n",
              "      --bg-color: #E8F0FE;\n",
              "      --fill-color: #1967D2;\n",
              "      --hover-bg-color: #E2EBFA;\n",
              "      --hover-fill-color: #174EA6;\n",
              "      --disabled-fill-color: #AAA;\n",
              "      --disabled-bg-color: #DDD;\n",
              "  }\n",
              "\n",
              "  [theme=dark] .colab-df-quickchart {\n",
              "      --bg-color: #3B4455;\n",
              "      --fill-color: #D2E3FC;\n",
              "      --hover-bg-color: #434B5C;\n",
              "      --hover-fill-color: #FFFFFF;\n",
              "      --disabled-bg-color: #3B4455;\n",
              "      --disabled-fill-color: #666;\n",
              "  }\n",
              "\n",
              "  .colab-df-quickchart {\n",
              "    background-color: var(--bg-color);\n",
              "    border: none;\n",
              "    border-radius: 50%;\n",
              "    cursor: pointer;\n",
              "    display: none;\n",
              "    fill: var(--fill-color);\n",
              "    height: 32px;\n",
              "    padding: 0;\n",
              "    width: 32px;\n",
              "  }\n",
              "\n",
              "  .colab-df-quickchart:hover {\n",
              "    background-color: var(--hover-bg-color);\n",
              "    box-shadow: 0 1px 2px rgba(60, 64, 67, 0.3), 0 1px 3px 1px rgba(60, 64, 67, 0.15);\n",
              "    fill: var(--button-hover-fill-color);\n",
              "  }\n",
              "\n",
              "  .colab-df-quickchart-complete:disabled,\n",
              "  .colab-df-quickchart-complete:disabled:hover {\n",
              "    background-color: var(--disabled-bg-color);\n",
              "    fill: var(--disabled-fill-color);\n",
              "    box-shadow: none;\n",
              "  }\n",
              "\n",
              "  .colab-df-spinner {\n",
              "    border: 2px solid var(--fill-color);\n",
              "    border-color: transparent;\n",
              "    border-bottom-color: var(--fill-color);\n",
              "    animation:\n",
              "      spin 1s steps(1) infinite;\n",
              "  }\n",
              "\n",
              "  @keyframes spin {\n",
              "    0% {\n",
              "      border-color: transparent;\n",
              "      border-bottom-color: var(--fill-color);\n",
              "      border-left-color: var(--fill-color);\n",
              "    }\n",
              "    20% {\n",
              "      border-color: transparent;\n",
              "      border-left-color: var(--fill-color);\n",
              "      border-top-color: var(--fill-color);\n",
              "    }\n",
              "    30% {\n",
              "      border-color: transparent;\n",
              "      border-left-color: var(--fill-color);\n",
              "      border-top-color: var(--fill-color);\n",
              "      border-right-color: var(--fill-color);\n",
              "    }\n",
              "    40% {\n",
              "      border-color: transparent;\n",
              "      border-right-color: var(--fill-color);\n",
              "      border-top-color: var(--fill-color);\n",
              "    }\n",
              "    60% {\n",
              "      border-color: transparent;\n",
              "      border-right-color: var(--fill-color);\n",
              "    }\n",
              "    80% {\n",
              "      border-color: transparent;\n",
              "      border-right-color: var(--fill-color);\n",
              "      border-bottom-color: var(--fill-color);\n",
              "    }\n",
              "    90% {\n",
              "      border-color: transparent;\n",
              "      border-bottom-color: var(--fill-color);\n",
              "    }\n",
              "  }\n",
              "</style>\n",
              "\n",
              "  <script>\n",
              "    async function quickchart(key) {\n",
              "      const quickchartButtonEl =\n",
              "        document.querySelector('#' + key + ' button');\n",
              "      quickchartButtonEl.disabled = true;  // To prevent multiple clicks.\n",
              "      quickchartButtonEl.classList.add('colab-df-spinner');\n",
              "      try {\n",
              "        const charts = await google.colab.kernel.invokeFunction(\n",
              "            'suggestCharts', [key], {});\n",
              "      } catch (error) {\n",
              "        console.error('Error during call to suggestCharts:', error);\n",
              "      }\n",
              "      quickchartButtonEl.classList.remove('colab-df-spinner');\n",
              "      quickchartButtonEl.classList.add('colab-df-quickchart-complete');\n",
              "    }\n",
              "    (() => {\n",
              "      let quickchartButtonEl =\n",
              "        document.querySelector('#df-0c5feb4a-5471-4f55-84f1-d55f6037f339 button');\n",
              "      quickchartButtonEl.style.display =\n",
              "        google.colab.kernel.accessAllowed ? 'block' : 'none';\n",
              "    })();\n",
              "  </script>\n",
              "</div>\n",
              "\n",
              "  <div id=\"id_4fdc49ef-94ad-4393-aa02-df43271b14e3\">\n",
              "    <style>\n",
              "      .colab-df-generate {\n",
              "        background-color: #E8F0FE;\n",
              "        border: none;\n",
              "        border-radius: 50%;\n",
              "        cursor: pointer;\n",
              "        display: none;\n",
              "        fill: #1967D2;\n",
              "        height: 32px;\n",
              "        padding: 0 0 0 0;\n",
              "        width: 32px;\n",
              "      }\n",
              "\n",
              "      .colab-df-generate:hover {\n",
              "        background-color: #E2EBFA;\n",
              "        box-shadow: 0px 1px 2px rgba(60, 64, 67, 0.3), 0px 1px 3px 1px rgba(60, 64, 67, 0.15);\n",
              "        fill: #174EA6;\n",
              "      }\n",
              "\n",
              "      [theme=dark] .colab-df-generate {\n",
              "        background-color: #3B4455;\n",
              "        fill: #D2E3FC;\n",
              "      }\n",
              "\n",
              "      [theme=dark] .colab-df-generate:hover {\n",
              "        background-color: #434B5C;\n",
              "        box-shadow: 0px 1px 3px 1px rgba(0, 0, 0, 0.15);\n",
              "        filter: drop-shadow(0px 1px 2px rgba(0, 0, 0, 0.3));\n",
              "        fill: #FFFFFF;\n",
              "      }\n",
              "    </style>\n",
              "    <button class=\"colab-df-generate\" onclick=\"generateWithVariable('df')\"\n",
              "            title=\"Generate code using this dataframe.\"\n",
              "            style=\"display:none;\">\n",
              "\n",
              "  <svg xmlns=\"http://www.w3.org/2000/svg\" height=\"24px\"viewBox=\"0 0 24 24\"\n",
              "       width=\"24px\">\n",
              "    <path d=\"M7,19H8.4L18.45,9,17,7.55,7,17.6ZM5,21V16.75L18.45,3.32a2,2,0,0,1,2.83,0l1.4,1.43a1.91,1.91,0,0,1,.58,1.4,1.91,1.91,0,0,1-.58,1.4L9.25,21ZM18.45,9,17,7.55Zm-12,3A5.31,5.31,0,0,0,4.9,8.1,5.31,5.31,0,0,0,1,6.5,5.31,5.31,0,0,0,4.9,4.9,5.31,5.31,0,0,0,6.5,1,5.31,5.31,0,0,0,8.1,4.9,5.31,5.31,0,0,0,12,6.5,5.46,5.46,0,0,0,6.5,12Z\"/>\n",
              "  </svg>\n",
              "    </button>\n",
              "    <script>\n",
              "      (() => {\n",
              "      const buttonEl =\n",
              "        document.querySelector('#id_4fdc49ef-94ad-4393-aa02-df43271b14e3 button.colab-df-generate');\n",
              "      buttonEl.style.display =\n",
              "        google.colab.kernel.accessAllowed ? 'block' : 'none';\n",
              "\n",
              "      buttonEl.onclick = () => {\n",
              "        google.colab.notebook.generateWithVariable('df');\n",
              "      }\n",
              "      })();\n",
              "    </script>\n",
              "  </div>\n",
              "\n",
              "    </div>\n",
              "  </div>\n"
            ],
            "application/vnd.google.colaboratory.intrinsic+json": {
              "type": "dataframe",
              "variable_name": "df",
              "summary": "{\n  \"name\": \"df\",\n  \"rows\": 28761,\n  \"fields\": [\n    {\n      \"column\": \"Date\",\n      \"properties\": {\n        \"dtype\": \"date\",\n        \"min\": \"1970-01-01 00:00:00\",\n        \"max\": \"2022-06-30 00:00:00\",\n        \"num_unique_values\": 813,\n        \"samples\": [\n          \"2020-11-29 00:00:00\",\n          \"2021-11-24 00:00:00\",\n          \"2020-11-09 00:00:00\"\n        ],\n        \"semantic_type\": \"\",\n        \"description\": \"\"\n      }\n    },\n    {\n      \"column\": \"State\",\n      \"properties\": {\n        \"dtype\": \"category\",\n        \"num_unique_values\": 37,\n        \"samples\": [\n          \"Ladakh\",\n          \"Jammu and Kashmir\",\n          \"Bihar\"\n        ],\n        \"semantic_type\": \"\",\n        \"description\": \"\"\n      }\n    },\n    {\n      \"column\": \"Confirmed Cases\",\n      \"properties\": {\n        \"dtype\": \"number\",\n        \"std\": 1165641,\n        \"min\": 0,\n        \"max\": 7972474,\n        \"num_unique_values\": 24156,\n        \"samples\": [\n          830373,\n          29401,\n          1005425\n        ],\n        \"semantic_type\": \"\",\n        \"description\": \"\"\n      }\n    },\n    {\n      \"column\": \"Active Cases\",\n      \"properties\": {\n        \"dtype\": \"number\",\n        \"std\": 45973,\n        \"min\": -140692,\n        \"max\": 701614,\n        \"num_unique_values\": 11954,\n        \"samples\": [\n          6136,\n          28152,\n          6708\n        ],\n        \"semantic_type\": \"\",\n        \"description\": \"\"\n      }\n    },\n    {\n      \"column\": \"Cured\",\n      \"properties\": {\n        \"dtype\": \"number\",\n        \"std\": 1133302.0161926907,\n        \"min\": 0.0,\n        \"max\": 7798817.0,\n        \"num_unique_values\": 23654,\n        \"samples\": [\n          63492.0,\n          204721.0,\n          429065.0\n        ],\n        \"semantic_type\": \"\",\n        \"description\": \"\"\n      }\n    },\n    {\n      \"column\": \"Death\",\n      \"properties\": {\n        \"dtype\": \"number\",\n        \"std\": 18304.97091074863,\n        \"min\": 0.0,\n        \"max\": 147922.0,\n        \"num_unique_values\": 9344,\n        \"samples\": [\n          35896.0,\n          1064.0,\n          1509.0\n        ],\n        \"semantic_type\": \"\",\n        \"description\": \"\"\n      }\n    }\n  ]\n}"
            }
          },
          "metadata": {},
          "execution_count": 10
        }
      ],
      "source": [
        "import pandas as pd\n",
        "import numpy as np\n",
        "import matplotlib.pyplot as plt\n",
        "df=pd.read_excel(\"/content/Covid_Data.xlsx\")\n",
        "\n",
        "df"
      ]
    },
    {
      "cell_type": "code",
      "source": [
        "import seaborn as sns\n",
        "act_case=df.groupby([\"State\"],as_index=False)['Active Cases'].sum().sort_values(ascending=False,by=\"Active Cases\").head()"
      ],
      "metadata": {
        "colab": {
          "base_uri": "https://localhost:8080/",
          "height": 315
        },
        "id": "BteGQwY3sXxn",
        "outputId": "2b3becb9-e53c-40b2-a104-bd55deb94911"
      },
      "execution_count": null,
      "outputs": [
        {
          "output_type": "error",
          "ename": "TypeError",
          "evalue": "as_index=False only valid with DataFrame",
          "traceback": [
            "\u001b[0;31m---------------------------------------------------------------------------\u001b[0m",
            "\u001b[0;31mTypeError\u001b[0m                                 Traceback (most recent call last)",
            "\u001b[0;32m<ipython-input-16-17f5f192af44>\u001b[0m in \u001b[0;36m<cell line: 2>\u001b[0;34m()\u001b[0m\n\u001b[1;32m      1\u001b[0m \u001b[0;32mimport\u001b[0m \u001b[0mseaborn\u001b[0m \u001b[0;32mas\u001b[0m \u001b[0msns\u001b[0m\u001b[0;34m\u001b[0m\u001b[0;34m\u001b[0m\u001b[0m\n\u001b[0;32m----> 2\u001b[0;31m \u001b[0mact_cases\u001b[0m\u001b[0;34m=\u001b[0m\u001b[0mdf\u001b[0m\u001b[0;34m.\u001b[0m\u001b[0mgroupby\u001b[0m\u001b[0;34m(\u001b[0m\u001b[0;34m[\u001b[0m\u001b[0;34m\"State\"\u001b[0m\u001b[0;34m]\u001b[0m\u001b[0;34m,\u001b[0m\u001b[0mas_index\u001b[0m\u001b[0;34m=\u001b[0m\u001b[0;32mFalse\u001b[0m\u001b[0;34m)\u001b[0m\u001b[0;34m[\u001b[0m\u001b[0;34m\"Active Cases\"\u001b[0m\u001b[0;34m]\u001b[0m\u001b[0;34m.\u001b[0m\u001b[0msum\u001b[0m\u001b[0;34m(\u001b[0m\u001b[0;34m)\u001b[0m\u001b[0;34m.\u001b[0m\u001b[0msort_values\u001b[0m\u001b[0;34m(\u001b[0m\u001b[0mascending\u001b[0m\u001b[0;34m=\u001b[0m\u001b[0;32mFalse\u001b[0m\u001b[0;34m,\u001b[0m\u001b[0mby\u001b[0m\u001b[0;34m=\u001b[0m\u001b[0;34m\"Active Cases\"\u001b[0m\u001b[0;34m)\u001b[0m\u001b[0;34m.\u001b[0m\u001b[0mhead\u001b[0m\u001b[0;34m(\u001b[0m\u001b[0;34m)\u001b[0m\u001b[0;34m\u001b[0m\u001b[0;34m\u001b[0m\u001b[0m\n\u001b[0m",
            "\u001b[0;32m/usr/local/lib/python3.10/dist-packages/pandas/core/series.py\u001b[0m in \u001b[0;36mgroupby\u001b[0;34m(self, by, axis, level, as_index, sort, group_keys, observed, dropna)\u001b[0m\n\u001b[1;32m   2059\u001b[0m             \u001b[0;32mraise\u001b[0m \u001b[0mTypeError\u001b[0m\u001b[0;34m(\u001b[0m\u001b[0;34m\"You have to supply one of 'by' and 'level'\"\u001b[0m\u001b[0;34m)\u001b[0m\u001b[0;34m\u001b[0m\u001b[0;34m\u001b[0m\u001b[0m\n\u001b[1;32m   2060\u001b[0m         \u001b[0;32mif\u001b[0m \u001b[0;32mnot\u001b[0m \u001b[0mas_index\u001b[0m\u001b[0;34m:\u001b[0m\u001b[0;34m\u001b[0m\u001b[0;34m\u001b[0m\u001b[0m\n\u001b[0;32m-> 2061\u001b[0;31m             \u001b[0;32mraise\u001b[0m \u001b[0mTypeError\u001b[0m\u001b[0;34m(\u001b[0m\u001b[0;34m\"as_index=False only valid with DataFrame\"\u001b[0m\u001b[0;34m)\u001b[0m\u001b[0;34m\u001b[0m\u001b[0;34m\u001b[0m\u001b[0m\n\u001b[0m\u001b[1;32m   2062\u001b[0m         \u001b[0maxis\u001b[0m \u001b[0;34m=\u001b[0m \u001b[0mself\u001b[0m\u001b[0;34m.\u001b[0m\u001b[0m_get_axis_number\u001b[0m\u001b[0;34m(\u001b[0m\u001b[0maxis\u001b[0m\u001b[0;34m)\u001b[0m\u001b[0;34m\u001b[0m\u001b[0;34m\u001b[0m\u001b[0m\n\u001b[1;32m   2063\u001b[0m \u001b[0;34m\u001b[0m\u001b[0m\n",
            "\u001b[0;31mTypeError\u001b[0m: as_index=False only valid with DataFrame"
          ]
        }
      ]
    },
    {
      "cell_type": "code",
      "source": [],
      "metadata": {
        "id": "EUaax5zVsXu9"
      },
      "execution_count": null,
      "outputs": []
    },
    {
      "cell_type": "code",
      "source": [],
      "metadata": {
        "id": "Bh15FG2KsXse"
      },
      "execution_count": null,
      "outputs": []
    },
    {
      "cell_type": "code",
      "source": [],
      "metadata": {
        "id": "3kNJiwfzsXp6"
      },
      "execution_count": null,
      "outputs": []
    },
    {
      "cell_type": "code",
      "source": [],
      "metadata": {
        "id": "etDtrIsusXnN"
      },
      "execution_count": null,
      "outputs": []
    },
    {
      "cell_type": "code",
      "source": [],
      "metadata": {
        "id": "XsHTXEp9sXkp"
      },
      "execution_count": null,
      "outputs": []
    },
    {
      "cell_type": "code",
      "source": [
        "l=[10,20,30,10,50,20,'yu',6,'yu']\n",
        "d=[]\n",
        "for i in l:\n",
        "    if l.count(i)>1 and i not in d:\n",
        "        d.append(i)\n",
        "print(d)"
      ],
      "metadata": {
        "colab": {
          "base_uri": "https://localhost:8080/"
        },
        "id": "XnTePxvksXh8",
        "outputId": "f516dfb4-a971-4a3a-d494-247c3425d48f"
      },
      "execution_count": null,
      "outputs": [
        {
          "output_type": "stream",
          "name": "stdout",
          "text": [
            "[10, 20, 'yu']\n"
          ]
        }
      ]
    },
    {
      "cell_type": "code",
      "source": [
        "d=[]\n",
        "for i in range(len(l)):\n",
        "    for j in range(i+1,len(l)):\n",
        "        if l[i]==l[j]:\n",
        "            d.append(l[i])\n",
        "print(d)"
      ],
      "metadata": {
        "colab": {
          "base_uri": "https://localhost:8080/"
        },
        "id": "fIOfpjMZsXfj",
        "outputId": "4fd0e089-526d-4017-c538-77e27190c1d5"
      },
      "execution_count": null,
      "outputs": [
        {
          "output_type": "stream",
          "name": "stdout",
          "text": [
            "[10, 20, 'yu']\n"
          ]
        }
      ]
    },
    {
      "cell_type": "code",
      "source": [
        "for i in range(5):\n",
        "    for j in range(4):\n",
        "        print('*',end='')"
      ],
      "metadata": {
        "colab": {
          "base_uri": "https://localhost:8080/"
        },
        "id": "MFGXk8LtsXcz",
        "outputId": "603a21a0-8994-44e8-ad5a-e19a17bfc7d8"
      },
      "execution_count": null,
      "outputs": [
        {
          "output_type": "stream",
          "name": "stdout",
          "text": [
            "********************"
          ]
        }
      ]
    },
    {
      "cell_type": "code",
      "source": [
        "for j in range(6):  #increasing triangle\n",
        "    for i in range(j,6):\n",
        "        print('@',end='')\n",
        "    print()\n"
      ],
      "metadata": {
        "colab": {
          "base_uri": "https://localhost:8080/"
        },
        "id": "Q9_9ypdSsXaH",
        "outputId": "e0c47b8e-de45-4a8c-d4b7-2ec54eafe0e3"
      },
      "execution_count": null,
      "outputs": [
        {
          "output_type": "stream",
          "name": "stdout",
          "text": [
            "@@@@@@\n",
            "@@@@@\n",
            "@@@@\n",
            "@@@\n",
            "@@\n",
            "@\n"
          ]
        }
      ]
    },
    {
      "cell_type": "code",
      "source": [
        "#square\n",
        "for j in range(6):\n",
        "    for i in range(6):\n",
        "        print('.',end='')\n",
        "    print()"
      ],
      "metadata": {
        "colab": {
          "base_uri": "https://localhost:8080/"
        },
        "id": "Gv2WtqPxsXXh",
        "outputId": "37e04425-d932-4cce-a596-c15777af9b23"
      },
      "execution_count": null,
      "outputs": [
        {
          "output_type": "stream",
          "name": "stdout",
          "text": [
            "......\n",
            "......\n",
            "......\n",
            "......\n",
            "......\n",
            "......\n"
          ]
        }
      ]
    },
    {
      "cell_type": "code",
      "source": [
        "#right side triangle\n",
        "n=5\n",
        "for i in range(n):\n",
        "    for j in range(i,n):\n",
        "        print(' ',end=' ')\n",
        "    for j in range(i+1):\n",
        "          print('0',end=' ')\n",
        "    print()\n"
      ],
      "metadata": {
        "colab": {
          "base_uri": "https://localhost:8080/"
        },
        "id": "14uXR9tLsXUp",
        "outputId": "a1d78e5c-9eb9-4a78-bfe2-abae8e02b0ca"
      },
      "execution_count": null,
      "outputs": [
        {
          "output_type": "stream",
          "name": "stdout",
          "text": [
            "          0 \n",
            "        0 0 \n",
            "      0 0 0 \n",
            "    0 0 0 0 \n",
            "  0 0 0 0 0 \n"
          ]
        }
      ]
    },
    {
      "cell_type": "code",
      "source": [
        "for i in range(4,1,-1):\n",
        "    for j in range(8,4,-1):\n",
        "        print(i,end='')\n",
        "    print()"
      ],
      "metadata": {
        "colab": {
          "base_uri": "https://localhost:8080/"
        },
        "id": "kiMoFWTRsXSJ",
        "outputId": "4124bba2-16f4-4fc2-db0c-01e80ca3138f"
      },
      "execution_count": null,
      "outputs": [
        {
          "output_type": "stream",
          "name": "stdout",
          "text": [
            "4444\n",
            "3333\n",
            "2222\n"
          ]
        }
      ]
    },
    {
      "cell_type": "code",
      "source": [
        "n=5\n",
        "for i in range(n):\n",
        "    for j in range(i+1):\n",
        "        print(' ',end=' ')\n",
        "    for j in range(i,n):\n",
        "          print('&',end=' ')\n",
        "    print()\n"
      ],
      "metadata": {
        "colab": {
          "base_uri": "https://localhost:8080/"
        },
        "id": "l8UFwZFCsXPr",
        "outputId": "7aa12104-8604-49d9-c2ec-d7f74183a0f4"
      },
      "execution_count": null,
      "outputs": [
        {
          "output_type": "stream",
          "name": "stdout",
          "text": [
            "  & & & & & \n",
            "    & & & & \n",
            "      & & & \n",
            "        & & \n",
            "          & \n"
          ]
        }
      ]
    },
    {
      "cell_type": "code",
      "source": [
        "#hill pattern\n",
        "n=9\n",
        "for i in range(n):\n",
        "    for j in range(i,n):\n",
        "        print(' ',end=' ')\n",
        "\n",
        "    for j in range(i+1):\n",
        "        print('*', end=' ')\n",
        "\n",
        "    for j in range(i):\n",
        "          print('*',end=' ')\n",
        "    print()"
      ],
      "metadata": {
        "colab": {
          "base_uri": "https://localhost:8080/"
        },
        "id": "oW5RovQusXNF",
        "outputId": "75eeec5f-842b-4757-d705-b1924193f2c1"
      },
      "execution_count": null,
      "outputs": [
        {
          "output_type": "stream",
          "name": "stdout",
          "text": [
            "                  * \n",
            "                * * * \n",
            "              * * * * * \n",
            "            * * * * * * * \n",
            "          * * * * * * * * * \n",
            "        * * * * * * * * * * * \n",
            "      * * * * * * * * * * * * * \n",
            "    * * * * * * * * * * * * * * * \n",
            "  * * * * * * * * * * * * * * * * * \n"
          ]
        }
      ]
    },
    {
      "cell_type": "code",
      "source": [
        "# reverse hill pattern\n",
        "n=9\n",
        "for i in range(n):\n",
        "    for j in range(i+1):\n",
        "        print(' ',end=' ')\n",
        "    for j in range(i,n):\n",
        "        print('*',end=' ')\n",
        "    for j in range(i,n-1):\n",
        "        print('*',end=' ')\n",
        "    print()\n"
      ],
      "metadata": {
        "colab": {
          "base_uri": "https://localhost:8080/"
        },
        "id": "2zL77x92sXKT",
        "outputId": "56a83a6a-911f-4b36-d830-23cca3bbc9dc"
      },
      "execution_count": null,
      "outputs": [
        {
          "output_type": "stream",
          "name": "stdout",
          "text": [
            "  * * * * * * * * * * * * * * * * * \n",
            "    * * * * * * * * * * * * * * * \n",
            "      * * * * * * * * * * * * * \n",
            "        * * * * * * * * * * * \n",
            "          * * * * * * * * * \n",
            "            * * * * * * * \n",
            "              * * * * * \n",
            "                * * * \n",
            "                  * \n"
          ]
        }
      ]
    },
    {
      "cell_type": "code",
      "source": [
        "x='divya'\n",
        "print(x.capitalize())"
      ],
      "metadata": {
        "colab": {
          "base_uri": "https://localhost:8080/"
        },
        "id": "tUwzUvMAvMZU",
        "outputId": "a98ce7f0-aa52-4e53-8314-53a943457419"
      },
      "execution_count": null,
      "outputs": [
        {
          "output_type": "stream",
          "name": "stdout",
          "text": [
            "Divya\n"
          ]
        }
      ]
    },
    {
      "cell_type": "code",
      "source": [
        "def Cap_names(x):\n",
        "  a = x.title()\n",
        "  return a\n",
        "Cap_names(\"prashastra johanna\")\n"
      ],
      "metadata": {
        "colab": {
          "base_uri": "https://localhost:8080/",
          "height": 36
        },
        "id": "I4ICVq6kvUeH",
        "outputId": "c2ea1fcd-f2e5-46b7-fd58-1e9716ceeb84"
      },
      "execution_count": null,
      "outputs": [
        {
          "output_type": "execute_result",
          "data": {
            "text/plain": [
              "'Prashastra Johanna'"
            ],
            "application/vnd.google.colaboratory.intrinsic+json": {
              "type": "string"
            }
          },
          "metadata": {},
          "execution_count": 32
        }
      ]
    },
    {
      "cell_type": "code",
      "source": [
        "n=9\n",
        "for i in range(n):\n",
        "    for j in range(i,n):\n",
        "        print(' ',end=' ')\n",
        "\n",
        "    for j in range(i+1):\n",
        "        print('*', end=' ')\n",
        "\n",
        "    for j in range(i):\n",
        "          print('*',end=' ')\n",
        "    print()\n",
        "for i in range(n):\n",
        "    for j in range(i+1):\n",
        "        print(' ',end=' ')\n",
        "    for j in range(i,n):\n",
        "        print('*',end=' ')\n",
        "    for j in range(i,n-1):\n",
        "        print('*',end=' ')\n",
        "    print()\n"
      ],
      "metadata": {
        "colab": {
          "base_uri": "https://localhost:8080/"
        },
        "id": "eUMYwuPwvUad",
        "outputId": "bcc3d6dd-c718-4e3d-dd3d-7b2eead6bc1c"
      },
      "execution_count": null,
      "outputs": [
        {
          "output_type": "stream",
          "name": "stdout",
          "text": [
            "                  * \n",
            "                * * * \n",
            "              * * * * * \n",
            "            * * * * * * * \n",
            "          * * * * * * * * * \n",
            "        * * * * * * * * * * * \n",
            "      * * * * * * * * * * * * * \n",
            "    * * * * * * * * * * * * * * * \n",
            "  * * * * * * * * * * * * * * * * * \n",
            "  * * * * * * * * * * * * * * * * * \n",
            "    * * * * * * * * * * * * * * * \n",
            "      * * * * * * * * * * * * * \n",
            "        * * * * * * * * * * * \n",
            "          * * * * * * * * * \n",
            "            * * * * * * * \n",
            "              * * * * * \n",
            "                * * * \n",
            "                  * \n"
          ]
        }
      ]
    },
    {
      "cell_type": "code",
      "source": [
        "def cap_names(x):\n",
        "    a = x.split(' ')\n",
        "    for i in range(len(a)):\n",
        "        return (a[i].capitalize())\n",
        "    return a\n",
        "print(cap_names(\"daivajyothi\"))\n"
      ],
      "metadata": {
        "colab": {
          "base_uri": "https://localhost:8080/"
        },
        "id": "xqmbIf2TvUYY",
        "outputId": "61b014dc-a61c-4c47-fd8d-859a22d2711e"
      },
      "execution_count": null,
      "outputs": [
        {
          "output_type": "stream",
          "name": "stdout",
          "text": [
            "Daivajyothi\n"
          ]
        }
      ]
    },
    {
      "cell_type": "code",
      "source": [
        "def cap_names(x):\n",
        "  a = x.split(' ')\n",
        "  b = []\n",
        "  for i in range(len(a)):\n",
        "      b.append(a[i].capitalize())\n",
        "  return ' '.join(b)\n",
        "print(cap_names(\"diya prakash\"))"
      ],
      "metadata": {
        "colab": {
          "base_uri": "https://localhost:8080/"
        },
        "id": "7O2wjPN0vUV9",
        "outputId": "cf6c0244-7a78-4542-e063-443d49af4e11"
      },
      "execution_count": null,
      "outputs": [
        {
          "output_type": "stream",
          "name": "stdout",
          "text": [
            "Diya Prakash\n"
          ]
        }
      ]
    },
    {
      "cell_type": "code",
      "source": [
        "data={'name' :['akhila ' , 'divya' , 'kavya' , 'daiva' ] }\n",
        "data"
      ],
      "metadata": {
        "colab": {
          "base_uri": "https://localhost:8080/"
        },
        "id": "XA9myMTRvUTg",
        "outputId": "fc1aca72-57c9-4de2-fa2c-767188b7a824"
      },
      "execution_count": null,
      "outputs": [
        {
          "output_type": "execute_result",
          "data": {
            "text/plain": [
              "{'name': ['akhila ', 'divya', 'kavya', 'daiva']}"
            ]
          },
          "metadata": {},
          "execution_count": 82
        }
      ]
    },
    {
      "cell_type": "code",
      "source": [
        "import pandas as pd\n",
        "data = {'names':['a fgj','v hjgh','d liyp'],\n",
        "     'age':[23,24,25]}\n",
        "df = pd.DataFrame(data)\n",
        "type(df['names'])\n",
        "print(cap_names(df['names'][1]))"
      ],
      "metadata": {
        "colab": {
          "base_uri": "https://localhost:8080/"
        },
        "id": "tKG94IyBvURD",
        "outputId": "d8b95528-7a2a-4e8f-eeb2-b7eb549e2e5d"
      },
      "execution_count": null,
      "outputs": [
        {
          "output_type": "stream",
          "name": "stdout",
          "text": [
            "V Hjgh\n"
          ]
        }
      ]
    },
    {
      "cell_type": "code",
      "source": [
        "list1=[]\n",
        "for i in range(len(df['names'])):\n",
        "  list1.append(cap_names(df['names'][i]))\n",
        "print(list1)\n"
      ],
      "metadata": {
        "colab": {
          "base_uri": "https://localhost:8080/"
        },
        "id": "coShTD-CvUOU",
        "outputId": "a19e29b3-93cf-4972-e21f-e10f6a64125c"
      },
      "execution_count": null,
      "outputs": [
        {
          "output_type": "stream",
          "name": "stdout",
          "text": [
            "['A Fgj', 'V Hjgh', 'D Liyp']\n"
          ]
        }
      ]
    },
    {
      "cell_type": "code",
      "source": [
        "class Employee:\n",
        "  comp=\"DELL\"\n",
        "  depart=\"WAIT\""
      ],
      "metadata": {
        "id": "eSonayjCvULo"
      },
      "execution_count": null,
      "outputs": []
    },
    {
      "cell_type": "code",
      "source": [
        "X=Employee()\n",
        "X.comp"
      ],
      "metadata": {
        "colab": {
          "base_uri": "https://localhost:8080/",
          "height": 36
        },
        "id": "wN7vJhK_vUJE",
        "outputId": "eb783765-cdf9-4a0f-b442-a2c298e21061"
      },
      "execution_count": null,
      "outputs": [
        {
          "output_type": "execute_result",
          "data": {
            "text/plain": [
              "'DELL'"
            ],
            "application/vnd.google.colaboratory.intrinsic+json": {
              "type": "string"
            }
          },
          "metadata": {},
          "execution_count": 52
        }
      ]
    },
    {
      "cell_type": "code",
      "source": [
        "X.comp=\"Google\"\n",
        "X.comp"
      ],
      "metadata": {
        "colab": {
          "base_uri": "https://localhost:8080/",
          "height": 36
        },
        "id": "OshQtwQpvUGg",
        "outputId": "29353635-9085-4b34-b7f5-3ea91da150d0"
      },
      "execution_count": null,
      "outputs": [
        {
          "output_type": "execute_result",
          "data": {
            "text/plain": [
              "'Google'"
            ],
            "application/vnd.google.colaboratory.intrinsic+json": {
              "type": "string"
            }
          },
          "metadata": {},
          "execution_count": 54
        }
      ]
    },
    {
      "cell_type": "code",
      "source": [
        "class Employee:\n",
        "  comp=\"DELL\"\n",
        "  depart=\"WAIT\"\n",
        "  def wish(self):\n",
        "      print(\"Good morning\")\n",
        "  def add(self,a,b):\n",
        "      return(a+b)"
      ],
      "metadata": {
        "id": "Ih4n668ovUD1"
      },
      "execution_count": null,
      "outputs": []
    },
    {
      "cell_type": "code",
      "source": [
        "X=Employee()"
      ],
      "metadata": {
        "id": "SsnHiXdWvUBM"
      },
      "execution_count": null,
      "outputs": []
    },
    {
      "cell_type": "code",
      "source": [
        "X.comp"
      ],
      "metadata": {
        "colab": {
          "base_uri": "https://localhost:8080/",
          "height": 36
        },
        "id": "5wfpx30rvT-T",
        "outputId": "3ddd0bde-5387-41b4-9f77-15804b6f528e"
      },
      "execution_count": null,
      "outputs": [
        {
          "output_type": "execute_result",
          "data": {
            "text/plain": [
              "'DELL'"
            ],
            "application/vnd.google.colaboratory.intrinsic+json": {
              "type": "string"
            }
          },
          "metadata": {},
          "execution_count": 60
        }
      ]
    },
    {
      "cell_type": "code",
      "source": [
        "class Employee:\n",
        "    comp=\"LFF\"\n",
        "    depart=\"WAIT\"\n",
        "\n",
        "    def __init__(self,name):\n",
        "       print(f\"{name},welcome to LLF \")\n",
        "\n",
        "    def wish(self):\n",
        "      print(\"Good morning\")\n",
        "\n",
        "    def add(self,a,b):\n",
        "      return(a+b)"
      ],
      "metadata": {
        "id": "rCOXG04AvT7r"
      },
      "execution_count": null,
      "outputs": []
    },
    {
      "cell_type": "code",
      "source": [
        "class Employee:\n",
        "    comp=\"LFF\"\n",
        "    depart=\"WAIT\"\n",
        "    def wish(self):\n",
        "        print(\"Good morning\")\n",
        "    def add(self,a,b):\n",
        "        return(a+b)\n",
        "class Employee2:\n",
        "    comp=\"google\"\n",
        "    location=\"delhi\"\n",
        "    def add(self,a,b):\n",
        "      return(a**2+b**2)\n",
        "print(Employee)\n"
      ],
      "metadata": {
        "colab": {
          "base_uri": "https://localhost:8080/"
        },
        "id": "-uHwK-VFvT4s",
        "outputId": "ee3692cf-017e-49c5-c8ae-394fda54fc39"
      },
      "execution_count": null,
      "outputs": [
        {
          "output_type": "stream",
          "name": "stdout",
          "text": [
            "<class '__main__.Employee'>\n"
          ]
        }
      ]
    },
    {
      "cell_type": "code",
      "source": [
        "class classroom:\n",
        "    def __init__(self):\n",
        "      self.students = []\n",
        "      self.contacts = []\n",
        "    def add_student(self,name):\n",
        "      s=name\n",
        "      self.students.append(s)\n",
        "    def add_contacts(self,email_id):\n",
        "      e=email_id\n",
        "      self.contacts.append(e)\n",
        "    def remove_stud(self,name):\n",
        "        for stud in self.students:\n",
        "          if stud[0]==name:\n",
        "            self.students.remove(stud)\n",
        "            break"
      ],
      "metadata": {
        "id": "g_pL9O1_vT18"
      },
      "execution_count": null,
      "outputs": []
    },
    {
      "cell_type": "code",
      "source": [
        "X=classroom()\n",
        "X.students\n",
        "X.add_student(\"daiva\")\n",
        "X.add_student(\"diya\")\n",
        "X.students"
      ],
      "metadata": {
        "colab": {
          "base_uri": "https://localhost:8080/"
        },
        "id": "tQJaE-SLx_dk",
        "outputId": "7f90930e-c372-4004-e7dc-d3c7b3a856e0"
      },
      "execution_count": null,
      "outputs": [
        {
          "output_type": "execute_result",
          "data": {
            "text/plain": [
              "['daiva', 'diya']"
            ]
          },
          "metadata": {},
          "execution_count": 74
        }
      ]
    },
    {
      "cell_type": "code",
      "source": [
        "pip install rake_nltk"
      ],
      "metadata": {
        "colab": {
          "base_uri": "https://localhost:8080/"
        },
        "id": "yQmPwvXgx_6D",
        "outputId": "cb2ba804-150e-4216-fb32-f08ca434f72f"
      },
      "execution_count": null,
      "outputs": [
        {
          "output_type": "stream",
          "name": "stdout",
          "text": [
            "Collecting rake_nltk\n",
            "  Downloading rake_nltk-1.0.6-py3-none-any.whl (9.1 kB)\n",
            "Requirement already satisfied: nltk<4.0.0,>=3.6.2 in /usr/local/lib/python3.10/dist-packages (from rake_nltk) (3.8.1)\n",
            "Requirement already satisfied: click in /usr/local/lib/python3.10/dist-packages (from nltk<4.0.0,>=3.6.2->rake_nltk) (8.1.7)\n",
            "Requirement already satisfied: joblib in /usr/local/lib/python3.10/dist-packages (from nltk<4.0.0,>=3.6.2->rake_nltk) (1.4.0)\n",
            "Requirement already satisfied: regex>=2021.8.3 in /usr/local/lib/python3.10/dist-packages (from nltk<4.0.0,>=3.6.2->rake_nltk) (2023.12.25)\n",
            "Requirement already satisfied: tqdm in /usr/local/lib/python3.10/dist-packages (from nltk<4.0.0,>=3.6.2->rake_nltk) (4.66.2)\n",
            "Installing collected packages: rake_nltk\n",
            "Successfully installed rake_nltk-1.0.6\n"
          ]
        }
      ]
    },
    {
      "cell_type": "code",
      "source": [
        "import nltk\n",
        "nltk.download('stopwords')"
      ],
      "metadata": {
        "colab": {
          "base_uri": "https://localhost:8080/"
        },
        "id": "gvr8xjM9yfGk",
        "outputId": "39734735-713c-4e35-cebd-81c2ecc29c21"
      },
      "execution_count": null,
      "outputs": [
        {
          "output_type": "stream",
          "name": "stderr",
          "text": [
            "[nltk_data] Downloading package stopwords to /root/nltk_data...\n",
            "[nltk_data]   Unzipping corpora/stopwords.zip.\n"
          ]
        },
        {
          "output_type": "execute_result",
          "data": {
            "text/plain": [
              "True"
            ]
          },
          "metadata": {},
          "execution_count": 76
        }
      ]
    },
    {
      "cell_type": "code",
      "source": [
        "import nltk\n",
        "nltk.download('punkt')"
      ],
      "metadata": {
        "colab": {
          "base_uri": "https://localhost:8080/"
        },
        "id": "dCP56Kjxyiut",
        "outputId": "0b20d06c-ee46-4aaa-eb56-4ba218094f7e"
      },
      "execution_count": null,
      "outputs": [
        {
          "output_type": "stream",
          "name": "stderr",
          "text": [
            "[nltk_data] Downloading package punkt to /root/nltk_data...\n",
            "[nltk_data]   Unzipping tokenizers/punkt.zip.\n"
          ]
        },
        {
          "output_type": "execute_result",
          "data": {
            "text/plain": [
              "True"
            ]
          },
          "metadata": {},
          "execution_count": 77
        }
      ]
    },
    {
      "cell_type": "code",
      "source": [
        "from rake_nltk import Rake\n",
        "rake_nltk_var=Rake()\n",
        "text=\"\"\"I am a programmer from India,and I am here to guide you with data science,Machine Learning,python, and c++ for free.\n",
        "I hope you will learn a lot in your jorney towards coding,Machine Learning and Artificial Intelligence with me.\"\"\"\n",
        "rake_nltk_var.extract_keywords_from_text(text)\n",
        "keyword_extracted=rake_nltk_var.get_ranked_phrases()\n",
        "print(keyword_extracted)"
      ],
      "metadata": {
        "colab": {
          "base_uri": "https://localhost:8080/"
        },
        "id": "KC4q9RUDyirK",
        "outputId": "22f976e3-51b7-4068-87fd-b0fdc30d6e63"
      },
      "execution_count": null,
      "outputs": [
        {
          "output_type": "stream",
          "name": "stdout",
          "text": [
            "['jorney towards coding', 'machine learning', 'machine learning', 'data science', 'c ++', 'artificial intelligence', 'python', 'programmer', 'lot', 'learn', 'india', 'hope', 'guide', 'free']\n"
          ]
        }
      ]
    },
    {
      "cell_type": "code",
      "source": [
        "pip install mysql-connector-python"
      ],
      "metadata": {
        "colab": {
          "base_uri": "https://localhost:8080/"
        },
        "id": "g8Ecevd9yioz",
        "outputId": "4f5eb52a-bf47-4977-8a09-b6d48b46b33c"
      },
      "execution_count": null,
      "outputs": [
        {
          "output_type": "stream",
          "name": "stdout",
          "text": [
            "Collecting mysql-connector-python\n",
            "  Downloading mysql_connector_python-8.4.0-cp310-cp310-manylinux_2_17_x86_64.whl (19.4 MB)\n",
            "\u001b[2K     \u001b[90m━━━━━━━━━━━━━━━━━━━━━━━━━━━━━━━━━━━━━━━━\u001b[0m \u001b[32m19.4/19.4 MB\u001b[0m \u001b[31m55.7 MB/s\u001b[0m eta \u001b[36m0:00:00\u001b[0m\n",
            "\u001b[?25hInstalling collected packages: mysql-connector-python\n",
            "Successfully installed mysql-connector-python-8.4.0\n"
          ]
        }
      ]
    },
    {
      "cell_type": "code",
      "source": [
        "pip install sqlalchemy"
      ],
      "metadata": {
        "colab": {
          "base_uri": "https://localhost:8080/"
        },
        "id": "2sgQNF5ByimW",
        "outputId": "0b38c013-62d5-4684-b111-46126472e31b"
      },
      "execution_count": null,
      "outputs": [
        {
          "output_type": "stream",
          "name": "stdout",
          "text": [
            "Requirement already satisfied: sqlalchemy in /usr/local/lib/python3.10/dist-packages (2.0.29)\n",
            "Requirement already satisfied: typing-extensions>=4.6.0 in /usr/local/lib/python3.10/dist-packages (from sqlalchemy) (4.11.0)\n",
            "Requirement already satisfied: greenlet!=0.4.17 in /usr/local/lib/python3.10/dist-packages (from sqlalchemy) (3.0.3)\n"
          ]
        }
      ]
    },
    {
      "cell_type": "code",
      "source": [
        "pip install rake-nltk\n"
      ],
      "metadata": {
        "colab": {
          "base_uri": "https://localhost:8080/"
        },
        "id": "a8NXzSkryijh",
        "outputId": "9d6450f2-c77b-43a6-ed3a-86e12324bea7"
      },
      "execution_count": null,
      "outputs": [
        {
          "output_type": "stream",
          "name": "stdout",
          "text": [
            "Requirement already satisfied: rake-nltk in /usr/local/lib/python3.10/dist-packages (1.0.6)\n",
            "Requirement already satisfied: nltk<4.0.0,>=3.6.2 in /usr/local/lib/python3.10/dist-packages (from rake-nltk) (3.8.1)\n",
            "Requirement already satisfied: click in /usr/local/lib/python3.10/dist-packages (from nltk<4.0.0,>=3.6.2->rake-nltk) (8.1.7)\n",
            "Requirement already satisfied: joblib in /usr/local/lib/python3.10/dist-packages (from nltk<4.0.0,>=3.6.2->rake-nltk) (1.4.0)\n",
            "Requirement already satisfied: regex>=2021.8.3 in /usr/local/lib/python3.10/dist-packages (from nltk<4.0.0,>=3.6.2->rake-nltk) (2023.12.25)\n",
            "Requirement already satisfied: tqdm in /usr/local/lib/python3.10/dist-packages (from nltk<4.0.0,>=3.6.2->rake-nltk) (4.66.2)\n"
          ]
        }
      ]
    },
    {
      "cell_type": "code",
      "source": [
        "pip install yake\n"
      ],
      "metadata": {
        "colab": {
          "base_uri": "https://localhost:8080/"
        },
        "id": "UULXAr5cyihH",
        "outputId": "c34fc9b6-775a-40c0-898c-f124f8d30391"
      },
      "execution_count": null,
      "outputs": [
        {
          "output_type": "stream",
          "name": "stdout",
          "text": [
            "Collecting yake\n",
            "  Downloading yake-0.4.8-py2.py3-none-any.whl (60 kB)\n",
            "\u001b[?25l     \u001b[90m━━━━━━━━━━━━━━━━━━━━━━━━━━━━━━━━━━━━━━━━\u001b[0m \u001b[32m0.0/60.2 kB\u001b[0m \u001b[31m?\u001b[0m eta \u001b[36m-:--:--\u001b[0m\r\u001b[2K     \u001b[90m━━━━━━━━━━━━━━━━━━━━━━━━━━━━━━━━━━━━━━━━\u001b[0m \u001b[32m60.2/60.2 kB\u001b[0m \u001b[31m1.8 MB/s\u001b[0m eta \u001b[36m0:00:00\u001b[0m\n",
            "\u001b[?25hRequirement already satisfied: tabulate in /usr/local/lib/python3.10/dist-packages (from yake) (0.9.0)\n",
            "Requirement already satisfied: click>=6.0 in /usr/local/lib/python3.10/dist-packages (from yake) (8.1.7)\n",
            "Requirement already satisfied: numpy in /usr/local/lib/python3.10/dist-packages (from yake) (1.25.2)\n",
            "Collecting segtok (from yake)\n",
            "  Downloading segtok-1.5.11-py3-none-any.whl (24 kB)\n",
            "Requirement already satisfied: networkx in /usr/local/lib/python3.10/dist-packages (from yake) (3.3)\n",
            "Collecting jellyfish (from yake)\n",
            "  Downloading jellyfish-1.0.3-cp310-cp310-manylinux_2_17_x86_64.manylinux2014_x86_64.whl (1.2 MB)\n",
            "\u001b[2K     \u001b[90m━━━━━━━━━━━━━━━━━━━━━━━━━━━━━━━━━━━━━━━━\u001b[0m \u001b[32m1.2/1.2 MB\u001b[0m \u001b[31m19.1 MB/s\u001b[0m eta \u001b[36m0:00:00\u001b[0m\n",
            "\u001b[?25hRequirement already satisfied: regex in /usr/local/lib/python3.10/dist-packages (from segtok->yake) (2023.12.25)\n",
            "Installing collected packages: segtok, jellyfish, yake\n",
            "Successfully installed jellyfish-1.0.3 segtok-1.5.11 yake-0.4.8\n"
          ]
        }
      ]
    },
    {
      "cell_type": "code",
      "source": [
        "import nltk\n",
        "nltk.download(\"stopwords\")"
      ],
      "metadata": {
        "colab": {
          "base_uri": "https://localhost:8080/"
        },
        "id": "NTORxkT1yieg",
        "outputId": "1eb9c1a8-0d5d-4a68-9bdd-cb3b7442fc0a"
      },
      "execution_count": null,
      "outputs": [
        {
          "output_type": "stream",
          "name": "stderr",
          "text": [
            "[nltk_data] Downloading package stopwords to /root/nltk_data...\n",
            "[nltk_data]   Package stopwords is already up-to-date!\n"
          ]
        },
        {
          "output_type": "execute_result",
          "data": {
            "text/plain": [
              "True"
            ]
          },
          "metadata": {},
          "execution_count": 87
        }
      ]
    },
    {
      "cell_type": "code",
      "source": [
        "import nltk\n",
        "nltk.download(\"punkt\")"
      ],
      "metadata": {
        "colab": {
          "base_uri": "https://localhost:8080/"
        },
        "id": "nC8b9cQDyibs",
        "outputId": "5eef50ab-3164-4c93-b878-14bbcddb8b1a"
      },
      "execution_count": null,
      "outputs": [
        {
          "output_type": "stream",
          "name": "stderr",
          "text": [
            "[nltk_data] Downloading package punkt to /root/nltk_data...\n",
            "[nltk_data]   Package punkt is already up-to-date!\n"
          ]
        },
        {
          "output_type": "execute_result",
          "data": {
            "text/plain": [
              "True"
            ]
          },
          "metadata": {},
          "execution_count": 89
        }
      ]
    },
    {
      "cell_type": "code",
      "source": [
        "from rake_nltk import rake\n",
        "import yake\n",
        "kw_extractor=yake.KeywordExtractor()\n",
        "text=\"\"\"I am a programmer from India,and I am here to guide you with data science,Machine Learning,python, and c++ for free.\n",
        "I hope you will learn a lot in your jorney towards coding,Machine Learning and Artificial Intelligence with me.\"\"\"\n",
        "language=\"en\"\n",
        "max_ngram_size=3\n",
        "deduplication_threshold=0.9\n",
        "numOfKeywords=20\n",
        "custom_kw_extractor=yake.KeywordExtractor(lan=language,n=max_ngram_size,dedupLim=deduplication_threshold,top=numOfKeywords,features=None)\n",
        "keywords=custom_kw_extractor.extract_keywords(text)\n",
        "for kw in keywords:\n",
        "  print(kw)"
      ],
      "metadata": {
        "colab": {
          "base_uri": "https://localhost:8080/"
        },
        "id": "i7iESNx-yiY8",
        "outputId": "568a458e-b179-4616-89ef-447ffe7b7308"
      },
      "execution_count": null,
      "outputs": [
        {
          "output_type": "stream",
          "name": "stdout",
          "text": [
            "('data science,Machine Learning,python', 0.001271864619686412)\n",
            "('science,Machine Learning,python', 0.008334116283452563)\n",
            "('programmer from India,and', 0.01143354430345338)\n",
            "('data science,Machine', 0.02249651976012989)\n",
            "('Learning and Artificial', 0.0521883172778223)\n",
            "('Artificial Intelligence', 0.0521883172778223)\n",
            "('Learning,python', 0.05572221155747183)\n",
            "('India,and', 0.07621084492189614)\n",
            "('coding,Machine Learning', 0.0916308214273787)\n",
            "('free', 0.10028582371075691)\n",
            "('programmer', 0.14832923246533666)\n",
            "('guide', 0.14832923246533666)\n",
            "('data', 0.14832923246533666)\n",
            "('science,Machine', 0.14832923246533666)\n",
            "('learn a lot', 0.165573765898185)\n",
            "('jorney towards coding,Machine', 0.165573765898185)\n",
            "('Learning', 0.22271009814206713)\n",
            "('Artificial', 0.22271009814206713)\n",
            "('Intelligence', 0.22271009814206713)\n",
            "('hope', 0.37689977775222827)\n"
          ]
        }
      ]
    },
    {
      "cell_type": "code",
      "source": [],
      "metadata": {
        "id": "uwn_SNuxyiTi"
      },
      "execution_count": null,
      "outputs": []
    },
    {
      "cell_type": "code",
      "source": [],
      "metadata": {
        "id": "yCy-2utSyiQt"
      },
      "execution_count": null,
      "outputs": []
    },
    {
      "cell_type": "code",
      "source": [],
      "metadata": {
        "id": "UXuHA937yiNr"
      },
      "execution_count": null,
      "outputs": []
    },
    {
      "cell_type": "code",
      "source": [],
      "metadata": {
        "id": "SFL-yjCNyiKD"
      },
      "execution_count": null,
      "outputs": []
    },
    {
      "cell_type": "code",
      "source": [],
      "metadata": {
        "id": "rhui71OoyiEV"
      },
      "execution_count": null,
      "outputs": []
    }
  ]
}